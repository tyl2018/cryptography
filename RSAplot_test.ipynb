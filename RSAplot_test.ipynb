{
 "cells": [
  {
   "cell_type": "code",
   "execution_count": 15,
   "metadata": {
    "jupyter": {
     "source_hidden": true
    }
   },
   "outputs": [],
   "source": [
    "def modexp(b, e, m): # e as a string showing the binary digits\n",
    "    if m==1:\n",
    "        return 0;\n",
    "    c=0\n",
    "    d=1\n",
    "    for e_i in e:\n",
    "        c *= 2\n",
    "        d = d*d%m\n",
    "        if e_i=='1':\n",
    "            c += 1\n",
    "            d = d*b%m\n",
    "    return d"
   ]
  },
  {
   "cell_type": "markdown",
   "metadata": {},
   "source": [
    "https://officeguide.cc/python-pycryptodome-rsa-asymmetric-encryption-tutorial-examples/"
   ]
  },
  {
   "cell_type": "code",
   "execution_count": 1,
   "metadata": {
    "jupyter": {
     "source_hidden": true
    }
   },
   "outputs": [],
   "source": [
    "from Crypto.PublicKey import RSA\n",
    "\n",
    "# 產生 2048 位元 RSA 金鑰\n",
    "key = RSA.generate(2048)\n",
    "\n",
    "# RSA 私鑰\n",
    "privateKey = key.export_key()\n",
    "with open(\"private.pem\", \"wb\") as f:\n",
    "    f.write(privateKey)\n",
    "\n",
    "# RSA 公鑰\n",
    "publicKey = key.publickey().export_key()\n",
    "with open(\"public.pem\", \"wb\") as f:\n",
    "    f.write(publicKey)"
   ]
  },
  {
   "cell_type": "code",
   "execution_count": 7,
   "metadata": {
    "collapsed": true,
    "jupyter": {
     "outputs_hidden": true,
     "source_hidden": true
    }
   },
   "outputs": [
    {
     "data": {
      "text/plain": [
       "RsaKey(n=20848842114161197946096044237963290256887266503265560301922434262344719599277755953426488739304512986408717195132687531499049337393744053888566568755380053978023422180029523210919465772226643434999984058799748582518193373128616142610138201826305767475369298307582818755984872659388957132524976927814975008435901716992458341465388211917864985255272018477604280242033829143194271300218350320083037370285944012220928459715002950954780228525766579120398900154421976888955799559096115321931336802721183698950762288756712181712120637261822057782475723962807256363501930268644128174374968505584092641815241054262244330171329, e=65537)"
      ]
     },
     "execution_count": 7,
     "metadata": {},
     "output_type": "execute_result"
    }
   ],
   "source": [
    "key.publickey()"
   ]
  },
  {
   "cell_type": "code",
   "execution_count": 1,
   "metadata": {
    "jupyter": {
     "source_hidden": true
    }
   },
   "outputs": [],
   "source": [
    "from Crypto.PublicKey import RSA\n",
    "from Crypto.Random import get_random_bytes\n",
    "from Crypto.Cipher import PKCS1_OAEP\n",
    "\n",
    "# 要加密的資料（必須為 bytes）\n",
    "data = b'Hello'\n",
    "\n",
    "# 產生 2048 位元 RSA 金鑰\n",
    "privateKey = RSA.generate(2048)\n",
    "\n",
    "# RSA 公鑰\n",
    "publicKey = privateKey.publickey()\n",
    "\n",
    "# 以 RSA 金鑰加密\n",
    "cipherRSA = PKCS1_OAEP.new(publicKey)\n",
    "ciphertext = cipherRSA.encrypt(data)\n",
    "\n",
    "# 將加密結果寫入檔案\n",
    "with open(\"encrypted_data.bin\", \"wb\") as f:\n",
    "    f.write(ciphertext)"
   ]
  },
  {
   "cell_type": "code",
   "execution_count": 26,
   "metadata": {
    "jupyter": {
     "source_hidden": true
    }
   },
   "outputs": [
    {
     "name": "stdout",
     "output_type": "stream",
     "text": [
      "Hello\n"
     ]
    }
   ],
   "source": [
    "# 解密\n",
    "\n",
    "#from Crypto.PublicKey import RSA\n",
    "#from Crypto.Cipher import PKCS1_OAEP\n",
    "\n",
    "# 從檔案讀取加密資料\n",
    "with open(\"encrypted_data.bin\", \"rb\") as f:\n",
    "    ciphertext = f.read()\n",
    "\n",
    "# 以 RSA 金鑰解密\n",
    "cipherRSA = PKCS1_OAEP.new(privaeKey)\n",
    "data = cipherRSA.decrypt(ciphertext)\n",
    "\n",
    "# 輸出解密後的資料\n",
    "print(data.decode(\"utf-8\"))"
   ]
  },
  {
   "cell_type": "code",
   "execution_count": 6,
   "metadata": {
    "collapsed": true,
    "jupyter": {
     "outputs_hidden": true,
     "source_hidden": true
    }
   },
   "outputs": [
    {
     "name": "stdout",
     "output_type": "stream",
     "text": [
      "4183716896242494973698257305707564290130297591699373376198584527479076885584686869484807694327719722842724521850715588707540758151910705245911157024254625246808536545691285556478962362909459566702318978735566405774982051566962166620926780637301528651707185111658048419243160878948625132826931084001342995189658302854651108591497820585438623819709552613738848050061171142729527055257216281285061679304344720012895310607348365533360272303402295740374465312046000075898000644332149501756984800790063229923728605579673997610237826144059780503941505156732215612948796320366802414215480971255584548207226162487654249195001\n",
      "65537\n",
      "26798441502130126872038575872956716110274086230484467864528821206802156267464557822941488722392197378287019204274089579937066770952623944651446952831801336539128286135461054734394932940233323718220190481297250211139617721110687534949487213275358479523719277785538143894046721841729565100921524942793922286639103908171288508598991182351747955713818984318687012665197670150254727056977967093371811958561266578065801051411861957611778093546902873728806149925601348196854668014955581072839680217737380621637162194119795675494947554372894325757831869672910980175044612040515873245599281197728052385443677254906290574140271\n",
      "154504572851390403587774735316299694620975532028629897652473717390500151562737551062581589141911678443125966270018440129829129264569815705138837325313264318612869828213304198385243030358753448764504865683629125726856800984888397063246183292991497455511539023802265158255536300185045761285141406147288673045639\n",
      "173447562150190202343478211369730663941697429906891328669276657556108387075574220354571983398845696134904966266430349133238397312868536112225067264261234738416037718815180955317701333459028492375037074917611618293511619145397725118686314493416114237313919965071216471213170063630359941281442459622179682505689\n"
     ]
    }
   ],
   "source": [
    "print(privateKey.d)\n",
    "print(privateKey.e)\n",
    "print(privateKey.n)\n",
    "print(privateKey.p)\n",
    "print(privateKey.q)"
   ]
  },
  {
   "cell_type": "code",
   "execution_count": 12,
   "metadata": {
    "collapsed": true,
    "jupyter": {
     "outputs_hidden": true,
     "source_hidden": true
    }
   },
   "outputs": [
    {
     "name": "stdout",
     "output_type": "stream",
     "text": [
      "48\n",
      "300\n",
      "28\n",
      "300\n",
      "164\n",
      "164\n"
     ]
    }
   ],
   "source": [
    "import sys\n",
    "print(sys.getsizeof(privateKey))\n",
    "print(sys.getsizeof(privateKey.d))\n",
    "print(sys.getsizeof(privateKey.e))\n",
    "print(sys.getsizeof(privateKey.n))\n",
    "print(sys.getsizeof(privateKey.p))\n",
    "print(sys.getsizeof(privateKey.q))\n"
   ]
  },
  {
   "cell_type": "code",
   "execution_count": 7,
   "metadata": {},
   "outputs": [],
   "source": [
    "import matplotlib.pyplot as plt"
   ]
  },
  {
   "cell_type": "code",
   "execution_count": 13,
   "metadata": {},
   "outputs": [],
   "source": [
    "import time"
   ]
  },
  {
   "cell_type": "code",
   "execution_count": 17,
   "metadata": {},
   "outputs": [
    {
     "data": {
      "text/plain": [
       "1642012102.955325"
      ]
     },
     "execution_count": 17,
     "metadata": {},
     "output_type": "execute_result"
    }
   ],
   "source": [
    "time.time()"
   ]
  },
  {
   "cell_type": "code",
   "execution_count": 25,
   "metadata": {},
   "outputs": [
    {
     "data": {
      "text/plain": [
       "38"
      ]
     },
     "execution_count": 25,
     "metadata": {},
     "output_type": "execute_result"
    }
   ],
   "source": [
    "sys.getsizeof(b'Hello')"
   ]
  },
  {
   "cell_type": "code",
   "execution_count": 23,
   "metadata": {},
   "outputs": [
    {
     "data": {
      "text/plain": [
       "time.struct_time(tm_year=2022, tm_mon=1, tm_mday=13, tm_hour=2, tm_min=30, tm_sec=11, tm_wday=3, tm_yday=13, tm_isdst=0)"
      ]
     },
     "execution_count": 23,
     "metadata": {},
     "output_type": "execute_result"
    }
   ],
   "source": [
    "time.localtime()"
   ]
  },
  {
   "cell_type": "code",
   "execution_count": 1,
   "metadata": {},
   "outputs": [],
   "source": [
    "from Crypto.PublicKey import RSA\n",
    "from Crypto.Random import get_random_bytes\n",
    "from Crypto.Cipher import PKCS1_OAEP\n",
    "import time, sys"
   ]
  },
  {
   "cell_type": "code",
   "execution_count": 2,
   "metadata": {},
   "outputs": [],
   "source": [
    "def RSAKeyGen(keysize):\n",
    "    t = time.time()\n",
    "    key = RSA.generate(keysize)\n",
    "    t = time.time() - t\n",
    "    publicKey = key.publickey()\n",
    "    ttlsize = sys.getsizeof(key.export_key())\n",
    "    sendsize = sys.getsizeof(publicKey.export_key())\n",
    "    return key, publicKey, t, ttlsize, sendsize"
   ]
  },
  {
   "cell_type": "code",
   "execution_count": 3,
   "metadata": {},
   "outputs": [],
   "source": [
    "def RSAEncrypt(datasize, publicKey, plaintext):\n",
    "    data = plaintext[:datasize]\n",
    "    t = time.time()\n",
    "    cipherRSA = PKCS1_OAEP.new(publicKey)\n",
    "    ciphertext = cipherRSA.encrypt(data)\n",
    "    t = time.time() - t\n",
    "    return ciphertext, t"
   ]
  },
  {
   "cell_type": "code",
   "execution_count": 4,
   "metadata": {},
   "outputs": [],
   "source": [
    "def RSADecrypt(cipher, key):\n",
    "    t = time.time()\n",
    "    cipherRSA = PKCS1_OAEP.new(key)\n",
    "    data = cipherRSA.decrypt(cipher)\n",
    "    t = time.time() - t\n",
    "    return data, t"
   ]
  },
  {
   "cell_type": "code",
   "execution_count": 5,
   "metadata": {},
   "outputs": [
    {
     "name": "stdout",
     "output_type": "stream",
     "text": [
      "b'H'\n",
      "b'He'\n",
      "b'Hel'\n",
      "b'Hell'\n",
      "b'Hello'\n"
     ]
    }
   ],
   "source": [
    "plaintext = b'Hello'\n",
    "BitSize = [8, 16, 24, 32, 40]\n",
    "keySize = [1413, 1745, 2800, 3200, 3800]\n",
    "TimesEnc = []\n",
    "TimesDec = []\n",
    "Timeskeygen = []\n",
    "\n",
    "for nd, nk in enumerate(keySize, start=1):\n",
    "    key, publicKey, t_gen, ttlsize, sendsize = RSAKeyGen(nk)\n",
    "    ciphertext, t_enc = RSAEncrypt(nd, publicKey, plaintext)\n",
    "    data, t_dec = RSADecrypt(ciphertext, key)\n",
    "    print(data)\n",
    "    TimesEnc.append(t_gen)\n",
    "    TimesDec.append(t_enc)\n",
    "    Timeskeygen.append(t_dec)"
   ]
  },
  {
   "cell_type": "code",
   "execution_count": 9,
   "metadata": {},
   "outputs": [
    {
     "data": {
      "text/plain": [
       "[0.002341747283935547,\n",
       " 0.0025947093963623047,\n",
       " 0.0072231292724609375,\n",
       " 0.0058231353759765625,\n",
       " 0.008190155029296875]"
      ]
     },
     "execution_count": 9,
     "metadata": {},
     "output_type": "execute_result"
    }
   ],
   "source": [
    "Timekeygen"
   ]
  },
  {
   "cell_type": "code",
   "execution_count": 16,
   "metadata": {},
   "outputs": [
    {
     "data": {
      "text/plain": [
       "[(1, 1413), (2, 1745), (3, 2800), (4, 3200), (5, 3800)]"
      ]
     },
     "execution_count": 16,
     "metadata": {},
     "output_type": "execute_result"
    }
   ],
   "source": [
    "list(enumerate(keySize, start=1))"
   ]
  },
  {
   "cell_type": "code",
   "execution_count": 83,
   "metadata": {},
   "outputs": [],
   "source": [
    "keyRSA = RSA.generate(2048)"
   ]
  },
  {
   "cell_type": "code",
   "execution_count": 86,
   "metadata": {},
   "outputs": [
    {
     "data": {
      "text/plain": [
       "30641483041036444255965507103893973726515359830083084511749848464110143556050171744927229502247280789360236660760488876341395839854388672781760291656884240881396295592940904966152786814428017805232336006184860711980912560963225397322614707028069862711546038582198013924404799676399995458270477784394831341900122421271089443203021933590191579980033057817113129240627291915202188523975558242805840904326730594385337078935780920474663913008884128412796598529548315859093583050333321793464011673955782184458801534373426422649508254767944725043559943778988320076484549734339077667112283731247535312545602427467749929450031"
      ]
     },
     "execution_count": 86,
     "metadata": {},
     "output_type": "execute_result"
    }
   ],
   "source": [
    "keyRSA.n"
   ]
  },
  {
   "cell_type": "code",
   "execution_count": 85,
   "metadata": {},
   "outputs": [
    {
     "ename": "AttributeError",
     "evalue": "'RSAKey' object has no attribute 'p'",
     "output_type": "error",
     "traceback": [
      "\u001b[0;31m---------------------------------------------------------------------------\u001b[0m",
      "\u001b[0;31mAttributeError\u001b[0m                            Traceback (most recent call last)",
      "\u001b[0;32m<ipython-input-85-6572fa011105>\u001b[0m in \u001b[0;36m<module>\u001b[0;34m\u001b[0m\n\u001b[0;32m----> 1\u001b[0;31m \u001b[0mkey\u001b[0m\u001b[0;34m.\u001b[0m\u001b[0mp\u001b[0m\u001b[0;34m\u001b[0m\u001b[0;34m\u001b[0m\u001b[0m\n\u001b[0m",
      "\u001b[0;31mAttributeError\u001b[0m: 'RSAKey' object has no attribute 'p'"
     ]
    }
   ],
   "source": [
    "key.p"
   ]
  },
  {
   "cell_type": "code",
   "execution_count": 8,
   "metadata": {
    "collapsed": true,
    "jupyter": {
     "outputs_hidden": true
    }
   },
   "outputs": [
    {
     "name": "stdout",
     "output_type": "stream",
     "text": [
      "Encrypt/Decrypt time to data size\n",
      "size:1\n",
      "\tGenerating the key\n",
      "\tEncrypting\n",
      "\tdecrypting\n",
      "size:2\n",
      "\tGenerating the key\n",
      "\tEncrypting\n",
      "\tdecrypting\n",
      "size:3\n",
      "\tGenerating the key\n",
      "\tEncrypting\n",
      "\tdecrypting\n",
      "size:4\n",
      "\tGenerating the key\n",
      "\tEncrypting\n",
      "\tdecrypting\n",
      "size:5\n",
      "\tGenerating the key\n",
      "\tEncrypting\n",
      "\tdecrypting\n",
      "Key generating time to key size\n",
      "size:1413\n",
      "\tGenerating the key\n",
      "size:1745\n",
      "\tGenerating the key\n",
      "size:2800\n",
      "\tGenerating the key\n",
      "size:3200\n",
      "\tGenerating the key\n",
      "size:3800\n",
      "\tGenerating the key\n",
      "Deliver size and key size to N\n",
      "size:1024\n",
      "\tGenerating the key\n",
      "\tEncrypting\n",
      "size:2048\n",
      "\tGenerating the key\n",
      "\tEncrypting\n",
      "size:3072\n",
      "\tGenerating the key\n",
      "\tEncrypting\n",
      "size:4096\n",
      "\tGenerating the key\n",
      "\tEncrypting\n",
      "size:7680\n",
      "\tGenerating the key\n",
      "\tEncrypting\n",
      "size:15360\n",
      "\tGenerating the key\n",
      "\tEncrypting\n"
     ]
    }
   ],
   "source": [
    "from Crypto.PublicKey import RSA\n",
    "from Crypto.Random import get_random_bytes\n",
    "from Crypto.Cipher import PKCS1_OAEP\n",
    "import time, sys\n",
    "import matplotlib.pyplot as plt\n",
    "from matplotlib.ticker import MultipleLocator\n",
    "\n",
    "def modexp(b, e, m): # e as a string showing the binary digits\n",
    "    if m==1:\n",
    "        return 0;\n",
    "    c=0\n",
    "    d=1\n",
    "    for e_i in e:\n",
    "        c *= 2\n",
    "        d = d*d%m\n",
    "        if e_i=='1':\n",
    "            c += 1\n",
    "            d = d*b%m\n",
    "    return d\n",
    "\n",
    "def RSAKeyGen(keysize):\n",
    "    print(\"\\tGenerating the key\")\n",
    "    t = time.time()\n",
    "    key = RSA.generate(keysize)\n",
    "    t = time.time() - t\n",
    "    publicKey = key.publickey()\n",
    "    ttlsize = sys.getsizeof(key.export_key())\n",
    "    sendsize = sys.getsizeof(publicKey.export_key())\n",
    "    return key, publicKey, t, ttlsize, sendsize\n",
    "    \n",
    "def RSAEncrypt(datasize, publicKey, plaintext):\n",
    "    print(\"\\tEncrypting\")\n",
    "    data = plaintext[:datasize]\n",
    "    t = time.time()\n",
    "    cipherRSA = PKCS1_OAEP.new(publicKey)\n",
    "    ciphertext = cipherRSA.encrypt(data)\n",
    "    t = time.time() - t\n",
    "    return ciphertext, t\n",
    "    \n",
    "def RSADecrypt(cipher, key):\n",
    "    print(\"\\tdecrypting\")\n",
    "    t = time.time()\n",
    "    cipherRSA = PKCS1_OAEP.new(key)\n",
    "    data = cipherRSA.decrypt(cipher)\n",
    "    t = time.time() - t\n",
    "    return data, t\n",
    "\n",
    "plaintext = b'Hello'\n",
    "BitSize = [8, 16, 24, 32, 40]\n",
    "keySize = [1413, 1745, 2800, 3200, 3800]\n",
    "values = ['8bit', '16bit', '24bit', '32bit','40bit']\n",
    "\n",
    "# values for ntru\n",
    "N_NTRU = [167, 443, 491, 593, 743]\n",
    "TimesEnc_NTRU = [0.155, 0.154, 0.15, 0.14, 0.15]\n",
    "TimesDec_NTRU = [0.21, 0.21, 0.22, 0.21, 0.22]\n",
    "Timekeygen_NTRU = [1.5, 3.5, 15, 25.7, 35]\n",
    "hPluscipher_NTRU = [1750, 2550, 3040, 3319, 3851]\n",
    "TotalSize_NTRU = [3000, 4145, 5400, 6000, 7000]\n",
    "\n",
    "# values for rsa\n",
    "N_RSA = [251, 401, 443, 491, 593, 743]\n",
    "keySize_N_RSA = [1024, 2048, 3072, 4096, 7680, 15360]\n",
    "TimesEnc_RSA = []\n",
    "TimesDec_RSA = []\n",
    "Timeskeygen_RSA = []\n",
    "Deliver_RSA = []\n",
    "TotalSize_RSA = []\n",
    "\n",
    "# Encrypt/Decrypt time to data size\n",
    "print(\"Encrypt/Decrypt time to data size\")\n",
    "for nd in range(1, 6):\n",
    "    print(\"size:{}\".format(nd))\n",
    "    key, publicKey, t_gen, ttlsize, sendsize = RSAKeyGen(2048)\n",
    "    ciphertext, t_enc = RSAEncrypt(nd, publicKey, plaintext)\n",
    "    data, t_dec = RSADecrypt(ciphertext, key)\n",
    "    if data != plaintext[:nd]:\n",
    "        raise Exception(\"decrypted plaintext does not match\")\n",
    "    TimesEnc_RSA.append(t_enc)\n",
    "    TimesDec_RSA.append(t_dec)\n",
    "\n",
    "# Key generating time to key size\n",
    "print(\"Key generating time to key size\")\n",
    "for nk in keySize:\n",
    "    print(\"size:{}\".format(nk))\n",
    "    key, publicKey, t_gen, ttlsize, sendsize = RSAKeyGen(nk)\n",
    "    Timeskeygen_RSA.append(t_gen)\n",
    "'''\n",
    "# Deliver size and key size to N\n",
    "print(\"Deliver size and key size to N\")\n",
    "for nk in keySize_N_RSA:\n",
    "    print(\"size:{}\".format(nk))\n",
    "    key, publicKey, t_gen, ttlsize, sendsize = RSAKeyGen(nk)\n",
    "    ciphertext, t_enc = RSAEncrypt(5, publicKey, plaintext)\n",
    "    Deliver_RSA.append(sendsize+sys.getsizeof(ciphertext))\n",
    "    TotalSize_RSA.append(ttlsize)\n",
    "'''"
   ]
  },
  {
   "cell_type": "code",
   "execution_count": 9,
   "metadata": {
    "collapsed": true,
    "jupyter": {
     "outputs_hidden": true
    }
   },
   "outputs": [
    {
     "data": {
      "image/png": "[encoded data removed]",
      "text/plain": [
       "<Figure size 1152x576 with 5 Axes>"
      ]
     },
     "metadata": {
      "needs_background": "light"
     },
     "output_type": "display_data"
    }
   ],
   "source": [
    "plt.figure(figsize=(16,8))\n",
    "\n",
    "plt.subplot(2, 3, 1)\n",
    "plt.plot(BitSize, TimesEnc_NTRU, label=\"NTRU\")\n",
    "plt.plot(BitSize, TimesEnc_RSA, label=\"RSA\")\n",
    "plt.title(\"Encryption\")\n",
    "plt.ylabel(\"Time(s)\") # y label\n",
    "plt.xticks(BitSize, values)\n",
    "plt.yticks([0,0.1,0.2,0.3,0.4])\n",
    "plt.legend()\n",
    "\n",
    "plt.subplot(2, 3, 2)\n",
    "plt.plot(BitSize, TimesDec_NTRU, label=\"NTRU\")\n",
    "plt.plot(BitSize, TimesDec_RSA, label=\"RSA\")\n",
    "plt.title(\"Decryption\")\n",
    "plt.ylabel(\"Time(s)\") # y label\n",
    "plt.xticks(BitSize, values)\n",
    "plt.yticks([0,0.1,0.2,0.3,0.4])\n",
    "plt.legend()\n",
    "\n",
    "plt.subplot(2, 3, 3)\n",
    "plt.plot(keySize, Timekeygen_NTRU, label=\"NTRU\")\n",
    "plt.plot(keySize, Timeskeygen_RSA, label=\"RSA\")\n",
    "plt.title(\"Keygen\")\n",
    "plt.xlabel(\"Key Size(bytes)\") \n",
    "plt.ylabel(\"Time(s)\") \n",
    "plt.legend()\n",
    "\n",
    "plt.subplot(2, 3, 4)\n",
    "plt.plot(N_NTRU, hPluscipher_NTRU, label=\"NTRU\")\n",
    "plt.plot(N_RSA, Deliver_RSA, label=\"RSA\")\n",
    "plt.title(\"Delivery Cost\")\n",
    "plt.xlabel(\"N\")\n",
    "plt.ylabel(\"Size(byte)\") # y label\n",
    "plt.legend()\n",
    "\n",
    "plt.subplot(2, 3, 5)\n",
    "plt.plot(N_NTRU, TotalSize_NTRU, label=\"NTRU\")\n",
    "plt.plot(N_RSA, TotalSize_RSA, label=\"RSA\")\n",
    "plt.title(\"Total key size\")\n",
    "plt.xlabel(\"N\")\n",
    "plt.ylabel(\"Size(byte)\") # y label\n",
    "plt.legend()\n",
    "\n",
    "plt.savefig('result-ntru-rsa.png')\n",
    "plt.show()"
   ]
  },
  {
   "cell_type": "code",
   "execution_count": 10,
   "metadata": {},
   "outputs": [
    {
     "name": "stdout",
     "output_type": "stream",
     "text": [
      "size:1413\n",
      "\tGenerating the key\n",
      "size:1745\n",
      "\tGenerating the key\n",
      "size:2800\n",
      "\tGenerating the key\n",
      "size:3200\n",
      "\tGenerating the key\n",
      "size:3800\n",
      "\tGenerating the key\n"
     ]
    }
   ],
   "source": [
    "# testing the size of the \n",
    "keysattr = [] # n, e, d, p, q\n",
    "\n",
    "for nk in keySize:\n",
    "    print(\"size:{}\".format(nk))\n",
    "    key, publicKey, t_gen, ttlsize, sendsize = RSAKeyGen(nk)\n",
    "    keysattr.append([key.n, key.e, key.d, key.p, key.q])"
   ]
  },
  {
   "cell_type": "code",
   "execution_count": 21,
   "metadata": {},
   "outputs": [
    {
     "data": {
      "text/plain": [
       "[(1413, 706, 707),\n",
       " (1745, 872, 873),\n",
       " (2800, 1400, 1400),\n",
       " (3200, 1600, 1600),\n",
       " (3800, 1900, 1900)]"
      ]
     },
     "execution_count": 21,
     "metadata": {},
     "output_type": "execute_result"
    }
   ],
   "source": [
    "[(k[0].bit_length(), k[3].bit_length(), k[4].bit_length()) for k in keysattr]"
   ]
  },
  {
   "cell_type": "code",
   "execution_count": 69,
   "metadata": {},
   "outputs": [
    {
     "data": {
      "text/plain": [
       "[65537, 65537, 65537, 65537, 65537]"
      ]
     },
     "execution_count": 69,
     "metadata": {},
     "output_type": "execute_result"
    }
   ],
   "source": [
    "[k[1] for k in keysattr]"
   ]
  },
  {
   "cell_type": "code",
   "execution_count": 23,
   "metadata": {},
   "outputs": [
    {
     "data": {
      "text/plain": [
       "706"
      ]
     },
     "execution_count": 23,
     "metadata": {},
     "output_type": "execute_result"
    }
   ],
   "source": [
    "((2**705)*2-1).bit_length()"
   ]
  },
  {
   "cell_type": "code",
   "execution_count": 11,
   "metadata": {},
   "outputs": [
    {
     "data": {
      "text/plain": [
       "17"
      ]
     },
     "execution_count": 11,
     "metadata": {},
     "output_type": "execute_result"
    }
   ],
   "source": [
    "(65537).bit_length()"
   ]
  },
  {
   "cell_type": "code",
   "execution_count": 8,
   "metadata": {},
   "outputs": [
    {
     "data": {
      "text/plain": [
       "1642101165.267058"
      ]
     },
     "execution_count": 8,
     "metadata": {},
     "output_type": "execute_result"
    }
   ],
   "source": [
    "time.time()"
   ]
  },
  {
   "cell_type": "code",
   "execution_count": null,
   "metadata": {},
   "outputs": [],
   "source": [
    "from Crypto.PublicKey import RSA\n",
    "from Crypto.Random import get_random_bytes\n",
    "from Crypto.Cipher import PKCS1_OAEP\n",
    "import time, sys, random, math\n",
    "import matplotlib.pyplot as plt\n",
    "from matplotlib.ticker import MultipleLocator"
   ]
  },
  {
   "cell_type": "code",
   "execution_count": 2,
   "metadata": {
    "jupyter": {
     "source_hidden": true
    }
   },
   "outputs": [],
   "source": [
    "# Large Prime Generation for RSA\n",
    "# Pre generated primes\n",
    "first_primes_list = [2, 3, 5, 7, 11, 13, 17, 19, 23, 29,\n",
    "\t\t\t\t\t31, 37, 41, 43, 47, 53, 59, 61, 67,\n",
    "\t\t\t\t\t71, 73, 79, 83, 89, 97, 101, 103,\n",
    "\t\t\t\t\t107, 109, 113, 127, 131, 137, 139,\n",
    "\t\t\t\t\t149, 151, 157, 163, 167, 173, 179,\n",
    "\t\t\t\t\t181, 191, 193, 197, 199, 211, 223,\n",
    "\t\t\t\t\t227, 229, 233, 239, 241, 251, 257,\n",
    "\t\t\t\t\t263, 269, 271, 277, 281, 283, 293,\n",
    "\t\t\t\t\t307, 311, 313, 317, 331, 337, 347, 349]\n",
    "\n",
    "def nBitRandom(n):\n",
    "\treturn random.randrange(2**(n-1)+1, 2**n - 1)\n",
    "\n",
    "def getLowLevelPrime(n):\n",
    "\t'''Generate a prime candidate divisible\n",
    "\tby first primes'''\n",
    "\twhile True:\n",
    "\t\t# Obtain a random number\n",
    "\t\tpc = nBitRandom(n)\n",
    "\n",
    "\t\t# Test divisibility by pre-generated\n",
    "\t\t# primes\n",
    "\t\tfor divisor in first_primes_list:\n",
    "\t\t\tif pc % divisor == 0 and divisor**2 <= pc:\n",
    "\t\t\t\tbreak\n",
    "\t\telse: return pc\n",
    "\n",
    "def isMillerRabinPassed(mrc):\n",
    "\t'''Run 20 iterations of Rabin Miller Primality test'''\n",
    "\tmaxDivisionsByTwo = 0\n",
    "\tec = mrc-1\n",
    "\twhile ec % 2 == 0:\n",
    "\t\tec >>= 1\n",
    "\t\tmaxDivisionsByTwo += 1\n",
    "\tassert(2**maxDivisionsByTwo * ec == mrc-1)\n",
    "\n",
    "\tdef trialComposite(round_tester):\n",
    "\t\tif pow(round_tester, ec, mrc) == 1:\n",
    "\t\t\treturn False\n",
    "\t\tfor i in range(maxDivisionsByTwo):\n",
    "\t\t\tif pow(round_tester, 2**i * ec, mrc) == mrc-1:\n",
    "\t\t\t\treturn False\n",
    "\t\treturn True\n",
    "\n",
    "\t# Set number of trials here\n",
    "\tnumberOfRabinTrials = 20\n",
    "\tfor i in range(numberOfRabinTrials):\n",
    "\t\tround_tester = random.randrange(2, mrc)\n",
    "\t\tif trialComposite(round_tester):\n",
    "\t\t\treturn False\n",
    "\treturn True\n",
    "\n",
    "def getRandomPrime(n):\n",
    "\twhile True:\n",
    "\t\tprime_candidate = getLowLevelPrime(n)\n",
    "\t\tif not isMillerRabinPassed(prime_candidate):\n",
    "\t\t\tcontinue\n",
    "\t\telse:\n",
    "\t\t\tprint(n, \"bit prime is: \\n\", prime_candidate)\n",
    "\t\t\treturn prime_candidate\n",
    "            "
   ]
  },
  {
   "cell_type": "code",
   "execution_count": 2,
   "metadata": {},
   "outputs": [],
   "source": [
    "def getRandomPrime(n):\n",
    "    t = time.time()\n",
    "    exams = []\n",
    "    mini = 2**(n-1)\n",
    "    maxi = mini*2\n",
    "    while len(exams) < mini:\n",
    "        num = random.randrange(mini+1, maxi, 2)\n",
    "        if num in exams:\n",
    "            continue\n",
    "        prime = True\n",
    "        for i in range(3, int(num**0.5)+1, 2):\n",
    "            if not num%i:\n",
    "                exams.append(num)\n",
    "                prime = False\n",
    "                break\n",
    "            if time.time() - t > 600:\n",
    "                print(f\"Tested {len(exams)} numbers.\\nCurrent num: {num}\\nCurrent i: {i}\\n\")\n",
    "                t = time.time()\n",
    "        if prime:\n",
    "            return num"
   ]
  },
  {
   "cell_type": "code",
   "execution_count": 3,
   "metadata": {},
   "outputs": [],
   "source": [
    "class RSAKey:\n",
    "    def __init__(self, n, e, *args):\n",
    "        self.n = n\n",
    "        self.e = e\n",
    "        if len(args)==1:\n",
    "            self.d = args[0]\n",
    "\n",
    "def modexp(b, e, m): # e as AN INTEGER\n",
    "    if m==1:\n",
    "        return 0;\n",
    "    c=0\n",
    "    d=1\n",
    "    for e_i in map(int, bin(e)[2:]):\n",
    "        c *= 2\n",
    "        d = d*d%m\n",
    "        if e_i:\n",
    "            c += 1\n",
    "            d = d*b%m\n",
    "    return d\n",
    "\n",
    "def findprime(primesize):\n",
    "    mini = 2**(primesize-1)+1\n",
    "    maxi = 2*mini\n",
    "    numlist = list(range(mini, maxi, 2))\n",
    "    random.shuffle(numlist)\n",
    "    for n in numlist:     # when not all numbers are examined\n",
    "        for x in range(3, int(n**0.5)):   # check if x can be divided by n\n",
    "            if n % x == 0:      # if true then n is not prime\n",
    "                break\n",
    "        else:                   # if x is found after exhausting all values of x\n",
    "            yield n             # generate the prime\n",
    "\n",
    "def modinv(a,m):\n",
    "    a0 = a\n",
    "    m0 = m\n",
    "    prevx,x=1,0\n",
    "    prevy,y=0,1\n",
    "    while m:\n",
    "        q = a//m\n",
    "        x, prevx = prevx - q*x, x\n",
    "        y, prevy = prevy - q*y, y\n",
    "        a, m = m, a % m\n",
    "    if a != 1:\n",
    "        raise ValueError\n",
    "    print(\"e*d mod r =\", a0*prevx%m0)\n",
    "    return prevx%m0          \n",
    "            \n",
    "def RSAKeyGen(keysize):\n",
    "    print(\"\\tGenerating the key\")\n",
    "    t = time.time()\n",
    "    \n",
    "    psize = keysize//2\n",
    "    qsize = keysize - psize\n",
    "    p = getRandomPrime(psize)\n",
    "    q = getRandomPrime(qsize)\n",
    "    n = p*q\n",
    "    r = (p-1)*(q-1)\n",
    "    \n",
    "    e = 65537\n",
    "    d = modinv(e, r)\n",
    "    \n",
    "    t = time.time() - t\n",
    "    key = RSAKey(n, e, d)\n",
    "    publicKey = RSAKey(n, e)\n",
    "    #ttlsize = sys.getsizeof(key.export_key())\n",
    "    #sendsize = sys.getsizeof(publicKey.export_key())\n",
    "    return key, publicKey, t #, ttlsize, sendsize\n",
    "\n",
    "def RSAEncrypt(datasize, publicKey, plaintext):\n",
    "    print(\"\\tEncrypting\")\n",
    "    data = plaintext[:datasize]\n",
    "    t = time.time()\n",
    "    m = int.from_bytes(data, 'big')\n",
    "    print(m)\n",
    "    c = modexp(m, publicKey.e, publicKey.n)\n",
    "    ciphertext = c.to_bytes(int(math.log(c, 2))//8+1, 'big')\n",
    "    t = time.time() - t\n",
    "    return c, t\n",
    "    \n",
    "def RSADecrypt(cipher, key):\n",
    "    print(\"\\tDecrypting\")\n",
    "    t = time.time()\n",
    "    #c = int.from_bytes(cipher, 'big')\n",
    "    c = cipher\n",
    "    m = modexp(c, key.d, key.n)\n",
    "    data = m.to_bytes(int(math.log(m, 2))//8+1, 'big')\n",
    "    t = time.time() - t\n",
    "    return data, t\n"
   ]
  },
  {
   "cell_type": "code",
   "execution_count": 4,
   "metadata": {},
   "outputs": [],
   "source": [
    "plaintext = b'Hello'\n",
    "BitSize = [8, 16, 24, 32, 40]\n",
    "keySize = [1413, 1745, 2800, 3200, 3800]\n",
    "values = ['8bit', '16bit', '24bit', '32bit','40bit']\n",
    "\n",
    "# values for ntru\n",
    "N_NTRU = [167, 443, 491, 593, 743]\n",
    "TimesEnc_NTRU = [0.155, 0.154, 0.15, 0.14, 0.15]\n",
    "TimesDec_NTRU = [0.21, 0.21, 0.22, 0.21, 0.22]\n",
    "Timekeygen_NTRU = [1.5, 3.5, 15, 25.7, 35]\n",
    "hPluscipher_NTRU = [1750, 2550, 3040, 3319, 3851]\n",
    "TotalSize_NTRU = [3000, 4145, 5400, 6000, 7000]\n",
    "\n",
    "# values for rsa\n",
    "N_RSA = [251, 401, 443, 491, 593]\n",
    "keySize_N_RSA = [1024, 2048, 3072, 4096, 7680]\n",
    "TimesEnc_RSA = []\n",
    "TimesDec_RSA = []\n",
    "Timeskeygen_RSA = []\n",
    "Deliver_RSA = []\n",
    "TotalSize_RSA = []"
   ]
  },
  {
   "cell_type": "code",
   "execution_count": null,
   "metadata": {
    "scrolled": true
   },
   "outputs": [
    {
     "name": "stdout",
     "output_type": "stream",
     "text": [
      "\tGenerating the key\n",
      "Tested 45 numbers.\n",
      "Current num: 91971075058897704029012332135336251449801292137733953595142619372659015103012721310920964768884618783734004635307430001524468932267143428995267339328966979930912883691406727978807743890870670293506290801396328508691662706875314747553899596364115327178199145621827661633353818577969569654419852699065225369281\n",
      "Current i: 125396571\n",
      "\n",
      "Tested 45 numbers.\n",
      "Current num: 91971075058897704029012332135336251449801292137733953595142619372659015103012721310920964768884618783734004635307430001524468932267143428995267339328966979930912883691406727978807743890870670293506290801396328508691662706875314747553899596364115327178199145621827661633353818577969569654419852699065225369281\n",
      "Current i: 1587197695\n",
      "\n",
      "Tested 45 numbers.\n",
      "Current num: 91971075058897704029012332135336251449801292137733953595142619372659015103012721310920964768884618783734004635307430001524468932267143428995267339328966979930912883691406727978807743890870670293506290801396328508691662706875314747553899596364115327178199145621827661633353818577969569654419852699065225369281\n",
      "Current i: 2666983177\n",
      "\n",
      "Tested 45 numbers.\n",
      "Current num: 91971075058897704029012332135336251449801292137733953595142619372659015103012721310920964768884618783734004635307430001524468932267143428995267339328966979930912883691406727978807743890870670293506290801396328508691662706875314747553899596364115327178199145621827661633353818577969569654419852699065225369281\n",
      "Current i: 3717938255\n",
      "\n",
      "Tested 45 numbers.\n",
      "Current num: 91971075058897704029012332135336251449801292137733953595142619372659015103012721310920964768884618783734004635307430001524468932267143428995267339328966979930912883691406727978807743890870670293506290801396328508691662706875314747553899596364115327178199145621827661633353818577969569654419852699065225369281\n",
      "Current i: 4741729473\n",
      "\n",
      "Tested 45 numbers.\n",
      "Current num: 91971075058897704029012332135336251449801292137733953595142619372659015103012721310920964768884618783734004635307430001524468932267143428995267339328966979930912883691406727978807743890870670293506290801396328508691662706875314747553899596364115327178199145621827661633353818577969569654419852699065225369281\n",
      "Current i: 5777271899\n",
      "\n",
      "Tested 45 numbers.\n",
      "Current num: 91971075058897704029012332135336251449801292137733953595142619372659015103012721310920964768884618783734004635307430001524468932267143428995267339328966979930912883691406727978807743890870670293506290801396328508691662706875314747553899596364115327178199145621827661633353818577969569654419852699065225369281\n",
      "Current i: 6849424585\n",
      "\n",
      "Tested 45 numbers.\n",
      "Current num: 91971075058897704029012332135336251449801292137733953595142619372659015103012721310920964768884618783734004635307430001524468932267143428995267339328966979930912883691406727978807743890870670293506290801396328508691662706875314747553899596364115327178199145621827661633353818577969569654419852699065225369281\n",
      "Current i: 7886332413\n",
      "\n",
      "Tested 45 numbers.\n",
      "Current num: 91971075058897704029012332135336251449801292137733953595142619372659015103012721310920964768884618783734004635307430001524468932267143428995267339328966979930912883691406727978807743890870670293506290801396328508691662706875314747553899596364115327178199145621827661633353818577969569654419852699065225369281\n",
      "Current i: 8994550919\n",
      "\n"
     ]
    }
   ],
   "source": [
    "# Encrypt/Decrypt time to data size\n",
    "for nd in range(1, 6):\n",
    "    key, publicKey, t_gen = RSAKeyGen(2048)\n",
    "    ciphertext, t_enc = RSAEncrypt(nd, publicKey, plaintext)\n",
    "    data, t_dec = RSADecrypt(ciphertext, key)\n",
    "    if data != plaintext[:nd]:\n",
    "        raise Exception(\"decrypted plaintext does not match\")\n",
    "    TimesEnc_RSA.append(t_enc)\n",
    "    TimesDec_RSA.append(t_dec)\n",
    "\n",
    "# Key generating time to key size\n",
    "for nk in keySize:\n",
    "    key, publicKey, t_gen = RSAKeyGen(nk)\n",
    "    Timeskeygen_RSA.append(t_gen)\n"
   ]
  },
  {
   "cell_type": "code",
   "execution_count": 149,
   "metadata": {},
   "outputs": [
    {
     "name": "stdout",
     "output_type": "stream",
     "text": [
      "\tEncrypting\n",
      "24599839172947301\n"
     ]
    }
   ],
   "source": [
    "ciphertext, t = RSAEncrypt(8, publicKey, b\"Welcome\")"
   ]
  },
  {
   "cell_type": "code",
   "execution_count": 139,
   "metadata": {},
   "outputs": [
    {
     "data": {
      "text/plain": [
       "b'\\x01\\x00\\x00\\x00\\x00\\x00\\x00\\x00\\x00\\x00'"
      ]
     },
     "execution_count": 139,
     "metadata": {},
     "output_type": "execute_result"
    }
   ],
   "source": [
    "(2**(9*8)).to_bytes(9+1, 'big')"
   ]
  },
  {
   "cell_type": "code",
   "execution_count": 150,
   "metadata": {},
   "outputs": [
    {
     "name": "stdout",
     "output_type": "stream",
     "text": [
      "\tDecrypting\n"
     ]
    }
   ],
   "source": [
    "data, t_dec = RSADecrypt(ciphertext, key)"
   ]
  },
  {
   "cell_type": "code",
   "execution_count": 151,
   "metadata": {},
   "outputs": [
    {
     "data": {
      "text/plain": [
       "b'Welcome'"
      ]
     },
     "execution_count": 151,
     "metadata": {},
     "output_type": "execute_result"
    }
   ],
   "source": [
    "data"
   ]
  },
  {
   "cell_type": "code",
   "execution_count": 107,
   "metadata": {},
   "outputs": [],
   "source": [
    "m = int.from_bytes(b\"Hello\", 'big')"
   ]
  },
  {
   "cell_type": "code",
   "execution_count": 109,
   "metadata": {},
   "outputs": [
    {
     "data": {
      "text/plain": [
       "b'Hello'"
      ]
     },
     "execution_count": 109,
     "metadata": {},
     "output_type": "execute_result"
    }
   ],
   "source": [
    "m.to_bytes(5, 'big')"
   ]
  },
  {
   "cell_type": "code",
   "execution_count": 15,
   "metadata": {},
   "outputs": [],
   "source": [
    "Deliver_RSA = [(ns+17)//8 for ns in keySize_N_RSA]"
   ]
  },
  {
   "cell_type": "code",
   "execution_count": 14,
   "metadata": {},
   "outputs": [
    {
     "data": {
      "text/plain": [
       "3800"
      ]
     },
     "execution_count": 14,
     "metadata": {},
     "output_type": "execute_result"
    }
   ],
   "source": [
    "key.d.bit_length()"
   ]
  },
  {
   "cell_type": "code",
   "execution_count": 16,
   "metadata": {},
   "outputs": [
    {
     "data": {
      "image/png": "[encoded data removed]",
      "text/plain": [
       "<Figure size 1152x576 with 4 Axes>"
      ]
     },
     "metadata": {
      "needs_background": "light"
     },
     "output_type": "display_data"
    }
   ],
   "source": [
    "plt.figure(figsize=(16,8))\n",
    "\n",
    "plt.subplot(2, 3, 1)\n",
    "plt.plot(BitSize, TimesEnc_NTRU, label=\"NTRU\")\n",
    "plt.plot(BitSize, TimesEnc_RSA, label=\"RSA\")\n",
    "plt.title(\"Encryption\")\n",
    "plt.ylabel(\"Time(s)\") # y label\n",
    "plt.xticks(BitSize, values)\n",
    "plt.yticks([0,0.1,0.2,0.3,0.4])\n",
    "plt.legend()\n",
    "\n",
    "plt.subplot(2, 3, 2)\n",
    "plt.plot(BitSize, TimesDec_NTRU, label=\"NTRU\")\n",
    "plt.plot(BitSize, TimesDec_RSA, label=\"RSA\")\n",
    "plt.title(\"Decryption\")\n",
    "plt.ylabel(\"Time(s)\") # y label\n",
    "plt.xticks(BitSize, values)\n",
    "plt.yticks([0,0.1,0.2,0.3,0.4])\n",
    "plt.legend()\n",
    "\n",
    "plt.subplot(2, 3, 3)\n",
    "plt.plot(keySize, Timekeygen_NTRU, label=\"NTRU\")\n",
    "plt.plot(keySize, Timeskeygen_RSA, label=\"RSA\")\n",
    "plt.title(\"Keygen\")\n",
    "plt.xlabel(\"Key Size(bytes)\") \n",
    "plt.ylabel(\"Time(s)\") \n",
    "plt.legend()\n",
    "\n",
    "plt.subplot(2, 3, 4)\n",
    "plt.plot(N_NTRU, hPluscipher_NTRU, label=\"NTRU\")\n",
    "plt.plot(N_RSA, Deliver_RSA, label=\"RSA\")\n",
    "plt.title(\"Delivery Cost\")\n",
    "plt.xlabel(\"N\")\n",
    "plt.ylabel(\"Size(byte)\") # y label\n",
    "plt.legend()\n",
    "'''\n",
    "plt.subplot(2, 3, 5)\n",
    "plt.plot(N_NTRU, TotalSize_NTRU, label=\"NTRU\")\n",
    "plt.plot(N_RSA, TotalSize_RSA, label=\"RSA\")\n",
    "plt.title(\"Total key size\")\n",
    "plt.xlabel(\"N\")\n",
    "plt.ylabel(\"Size(byte)\") # y label\n",
    "plt.legend()\n",
    "'''\n",
    "plt.savefig('result-ntru-rsa.png')\n",
    "plt.show()"
   ]
  },
  {
   "cell_type": "code",
   "execution_count": null,
   "metadata": {},
   "outputs": [],
   "source": []
  }
 ],
 "metadata": {
  "kernelspec": {
   "display_name": "Python 3",
   "language": "python",
   "name": "python3"
  },
  "language_info": {
   "codemirror_mode": {
    "name": "ipython",
    "version": 3
   },
   "file_extension": ".py",
   "mimetype": "text/x-python",
   "name": "python",
   "nbconvert_exporter": "python",
   "pygments_lexer": "ipython3",
   "version": "3.8.3"
  }
 },
 "nbformat": 4,
 "nbformat_minor": 4
}
